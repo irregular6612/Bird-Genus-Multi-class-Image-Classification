{
  "cells": [
    {
      "metadata": {
        "id": "9e29405cdc7a9d60"
      },
      "cell_type": "markdown",
      "source": [
        "## Sample data processing and submission"
      ],
      "id": "9e29405cdc7a9d60"
    },
    {
      "cell_type": "code",
      "source": [
        "# Upload kaggle.json and setup kaggle home\n",
        "\n",
        "from google.colab import files\n",
        "\n",
        "files.upload()\n",
        "!mkdir /root/.kaggle/\n",
        "!mv kaggle.json /root/.kaggle/kaggle.json\n",
        "!chmod 600 ~/.kaggle/kaggle.json\n",
        "!kaggle config set -n path -v /content"
      ],
      "metadata": {
        "id": "QjXkCmT9VYwG"
      },
      "id": "QjXkCmT9VYwG",
      "execution_count": null,
      "outputs": []
    },
    {
      "metadata": {
        "id": "9e05aced25895fc1"
      },
      "cell_type": "code",
      "outputs": [],
      "execution_count": null,
      "source": [
        "# Download the dataset and labels from kaggle\n",
        "!kaggle competitions download -c bird-genus-multi-class-image-classification"
      ],
      "id": "9e05aced25895fc1"
    },
    {
      "cell_type": "code",
      "source": [
        "# Unzip competition dataset\n",
        "!unzip -q ./competitions/bird-genus-multi-class-image-classification/bird-genus-multi-class-image-classification.zip"
      ],
      "metadata": {
        "id": "Ey1f-eRxXWrD"
      },
      "id": "Ey1f-eRxXWrD",
      "execution_count": null,
      "outputs": []
    },
    {
      "cell_type": "code",
      "source": [
        "# Imports\n",
        "import os\n",
        "import matplotlib.pyplot as plt\n",
        "import numpy as np\n",
        "import pandas as pd\n",
        "from PIL import Image\n",
        "import json\n",
        "from sklearn.model_selection import train_test_split\n",
        "import pandas as pd\n",
        "\n",
        "import torch\n",
        "import torch.nn as nn\n",
        "from torch.utils.data import Dataset, DataLoader\n",
        "from torchvision import transforms"
      ],
      "metadata": {
        "id": "ilb9Poagk24t"
      },
      "id": "ilb9Poagk24t",
      "execution_count": null,
      "outputs": []
    },
    {
      "cell_type": "code",
      "source": [
        "# Beg for GPU\n",
        "\n",
        "if torch.cuda.is_available():\n",
        "    print(\"GPU is available\")\n",
        "    device = torch.device(\"cuda\")\n",
        "else:\n",
        "    print(\"GPU is not available, using CPU instead\")\n",
        "    device = torch.device(\"cpu\")"
      ],
      "metadata": {
        "id": "bpo9Jo9Ck8Cn"
      },
      "id": "bpo9Jo9Ck8Cn",
      "execution_count": null,
      "outputs": []
    },
    {
      "cell_type": "code",
      "source": [
        "# Describe dataset\n",
        "\n",
        "images = pd.read_csv('train.csv', header=0, names=['id', 'filename', 'genus'])\n",
        "classes = images['genus'].unique()\n",
        "\n",
        "print(f\"Classes {classes}\")\n",
        "print(f\"Number of images {len(images)}\")\n",
        "\n",
        "plt.figure(figsize=(10, 10))\n",
        "plt.bar(classes, [images['genus'][images['genus'] == cls].count() for cls in classes])\n",
        "plt.xlabel('Class')\n",
        "plt.ylabel('Number of images')\n",
        "plt.title('Number of images per class')\n",
        "plt.xticks(rotation=90)\n",
        "plt.show()\n",
        "\n",
        "images.head()"
      ],
      "metadata": {
        "id": "BoPA19NOYH7F"
      },
      "id": "BoPA19NOYH7F",
      "execution_count": null,
      "outputs": []
    },
    {
      "cell_type": "code",
      "source": [
        "# Split to train and validation sets\n",
        "\n",
        "train, val = train_test_split(images, test_size=0.2)\n",
        "train.to_csv('train_labels.csv', index=False, index_label='id')\n",
        "!head train_labels.csv"
      ],
      "metadata": {
        "id": "CslIm085kfes"
      },
      "id": "CslIm085kfes",
      "execution_count": null,
      "outputs": []
    },
    {
      "metadata": {
        "id": "34caccdc7eaa7b27"
      },
      "cell_type": "code",
      "outputs": [],
      "execution_count": null,
      "source": [
        "# Create torch dataset\n",
        "\n",
        "class BirdsDataset(Dataset):\n",
        "  def __init__(self, images_dir, labels_file, img_width=300, img_height=300, augment=False):\n",
        "    super(BirdsDataset, self).__init__()\n",
        "    self.img_width = img_width\n",
        "    self.img_height = img_height\n",
        "    self.image_dir = images_dir\n",
        "\n",
        "    # dataframe of image file name and class label\n",
        "    self.df = pd.read_csv(labels_file, header=0, names=['id', 'filename', 'genus'])\n",
        "    # read all images to memory\n",
        "    self.images = [Image.open(os.path.join(self.image_dir, filename)) for filename in self.df['filename']]\n",
        "    # list of unique classes\n",
        "    self.classes = self.df['genus'].unique()\n",
        "    # number of classes\n",
        "    self.K = len(classes)\n",
        "\n",
        "    # example augmentations\n",
        "    if augment:\n",
        "        self.transform = transforms.Compose([\n",
        "            transforms.RandomHorizontalFlip(p=0.5),\n",
        "            transforms.ToTensor(),\n",
        "        ])\n",
        "    else:\n",
        "        self.transform = transforms.Compose([\n",
        "            transforms.ToTensor()\n",
        "        ])\n",
        "\n",
        "  def __len__(self):\n",
        "    return len(self.df)\n",
        "\n",
        "  def __getitem__(self, idx):\n",
        "    transformed_image = self.transform(self.images[idx])\n",
        "    label = self.df.iloc[idx]['genus']\n",
        "    return transformed_image, label"
      ],
      "id": "34caccdc7eaa7b27"
    },
    {
      "cell_type": "code",
      "source": [
        "# Create a dataset and loader\n",
        "train_batch_size = 16\n",
        "\n",
        "train_dataset = BirdsDataset(images_dir=\"images/train\", labels_file='train_labels.csv', augment=True)\n",
        "train_loader = DataLoader(train_dataset, batch_size=train_batch_size, shuffle=True)"
      ],
      "metadata": {
        "id": "WirPJ2bxJ8pE"
      },
      "id": "WirPJ2bxJ8pE",
      "execution_count": null,
      "outputs": []
    },
    {
      "cell_type": "code",
      "source": [
        "# Show example training batch\n",
        "\n",
        "plt.rcParams['figure.figsize'] = (10.0, 10.0)\n",
        "for X_batch, y_batch in train_loader:\n",
        "    for i in range(0, train_batch_size):\n",
        "        plt.subplot(4, 4, 1 + i)\n",
        "        plt.imshow(X_batch[i].numpy().transpose(1, 2, 0))\n",
        "        plt.axis('off')\n",
        "        plt.title(y_batch[i])\n",
        "    plt.show()\n",
        "    break"
      ],
      "metadata": {
        "id": "N5C0TQhPJ6sc"
      },
      "id": "N5C0TQhPJ6sc",
      "execution_count": null,
      "outputs": []
    },
    {
      "cell_type": "code",
      "source": [
        "# Predict random class\n",
        "import random\n",
        "\n",
        "test_images = pd.read_csv('test.csv', header=0, names=['id'], usecols=['id'])\n",
        "predictions = [random.choice(classes) for _ in range(len(test_images))]"
      ],
      "metadata": {
        "id": "feD3Ju12Rt21"
      },
      "id": "feD3Ju12Rt21",
      "execution_count": null,
      "outputs": []
    },
    {
      "cell_type": "code",
      "source": [
        "# Create sample submission file\n",
        "test_images['genus'] = predictions\n",
        "test_images.to_csv('sample_submission.csv', index=False, index_label='id')\n",
        "test_images.head()"
      ],
      "metadata": {
        "id": "yKcBWKwqnmhB"
      },
      "id": "yKcBWKwqnmhB",
      "execution_count": null,
      "outputs": []
    },
    {
      "cell_type": "code",
      "source": [
        "# Submit!\n",
        "!kaggle competitions submit -c bird-genus-multi-class-image-classification -f sample_submission.csv -m \"Sample submission\""
      ],
      "metadata": {
        "id": "PRTFaqT3MNwZ"
      },
      "id": "PRTFaqT3MNwZ",
      "execution_count": null,
      "outputs": []
    }
  ],
  "metadata": {
    "kernelspec": {
      "display_name": "Python 3",
      "language": "python",
      "name": "python3"
    },
    "language_info": {
      "codemirror_mode": {
        "name": "ipython",
        "version": 2
      },
      "file_extension": ".py",
      "mimetype": "text/x-python",
      "name": "python",
      "nbconvert_exporter": "python",
      "pygments_lexer": "ipython2",
      "version": "2.7.6"
    },
    "colab": {
      "provenance": []
    }
  },
  "nbformat": 4,
  "nbformat_minor": 5
}